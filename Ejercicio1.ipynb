{
  "nbformat": 4,
  "nbformat_minor": 0,
  "metadata": {
    "colab": {
      "provenance": []
    },
    "kernelspec": {
      "name": "python3",
      "display_name": "Python 3"
    },
    "language_info": {
      "name": "python"
    }
  },
  "cells": [
    {
      "cell_type": "code",
      "execution_count": null,
      "metadata": {
        "id": "vY7t8RggfCjC"
      },
      "outputs": [],
      "source": [
        "def suma_de_variables (a, b, c):\n",
        "  if type(a) == int and  type(b) == int and type(c) == int:\n",
        "    suma = a + b\n",
        "    if c == 0:\n",
        "      print(f\"El numero {c} no puede ser 0.\")\n",
        "    else:\n",
        "      division= suma/c\n",
        "\n",
        "      print(division)\n",
        "  else:\n",
        "    print(\"tienen que ser enteros\")\n",
        "\n",
        "\n",
        "\n",
        "\n",
        "\n",
        "\n",
        "\n",
        "\n",
        "\n"
      ]
    },
    {
      "cell_type": "code",
      "source": [
        "suma_de_variables(5 ,6 , 7)\n",
        "#1.5714285714285714\n"
      ],
      "metadata": {
        "colab": {
          "base_uri": "https://localhost:8080/"
        },
        "id": "5TwlZniafDXS",
        "outputId": "07170354-8f0a-43fa-8339-d2ca6e33b5c1"
      },
      "execution_count": null,
      "outputs": [
        {
          "output_type": "stream",
          "name": "stdout",
          "text": [
            "1.5714285714285714\n"
          ]
        }
      ]
    },
    {
      "cell_type": "code",
      "source": [],
      "metadata": {
        "id": "VJH12bh0fINJ"
      },
      "execution_count": null,
      "outputs": []
    },
    {
      "cell_type": "code",
      "source": [
        "a"
      ],
      "metadata": {
        "colab": {
          "base_uri": "https://localhost:8080/"
        },
        "id": "459jgxM4BVxG",
        "outputId": "8311abd1-fb14-42b3-ea3f-f760fed01559"
      },
      "execution_count": null,
      "outputs": [
        {
          "output_type": "execute_result",
          "data": {
            "text/plain": [
              "10"
            ]
          },
          "metadata": {},
          "execution_count": 50
        }
      ]
    },
    {
      "cell_type": "code",
      "source": [
        "b"
      ],
      "metadata": {
        "colab": {
          "base_uri": "https://localhost:8080/"
        },
        "id": "ahcWclNxBWt1",
        "outputId": "77142660-1081-4cdd-f414-c26d27f491f6"
      },
      "execution_count": null,
      "outputs": [
        {
          "output_type": "execute_result",
          "data": {
            "text/plain": [
              "12"
            ]
          },
          "metadata": {},
          "execution_count": 51
        }
      ]
    },
    {
      "cell_type": "code",
      "source": [],
      "metadata": {
        "id": "mwio7ZMBBX-F"
      },
      "execution_count": null,
      "outputs": []
    }
  ]
}