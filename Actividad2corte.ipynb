{
  "nbformat": 4,
  "nbformat_minor": 0,
  "metadata": {
    "colab": {
      "provenance": []
    },
    "kernelspec": {
      "name": "python3",
      "display_name": "Python 3"
    },
    "language_info": {
      "name": "python"
    }
  },
  "cells": [
    {
      "cell_type": "code",
      "execution_count": null,
      "metadata": {
        "id": "tPuEq3Z_4fxj"
      },
      "outputs": [],
      "source": [
        "import pandas as pd\n",
        "import scipy\n",
        "import matplotlib.pyplot as plt\n",
        "import numpy as np\n",
        "\n",
        "from sklearn.preprocessing import LabelEncoder\n",
        "from sklearn.preprocessing import StandardScaler\n",
        "\n",
        "from sklearn.decomposition import PCA\n",
        "from sklearn.linear_model import LogisticRegression\n",
        "from sklearn.svm import SVC\n",
        "\n",
        "from sklearn.pipeline import make_pipeline\n",
        "from sklearn.experimental import enable_halving_search_cv\n",
        "\n",
        "from sklearn.model_selection import train_test_split\n",
        "from sklearn.model_selection import learning_curve\n",
        "from sklearn.model_selection import validation_curve\n",
        "\n",
        "from sklearn.model_selection import StratifiedKFold\n",
        "from sklearn.model_selection import cross_val_score\n",
        "from sklearn.model_selection import GridSearchCV\n",
        "from sklearn.model_selection import HalvingRandomSearchCV\n",
        "from sklearn.model_selection import RandomizedSearchCV"
      ]
    },
    {
      "cell_type": "code",
      "source": [
        "X_test = pd.read_csv(\"/content/data_inlf_test.csv\")\n",
        "train = pd.read_csv(\"/content/data_inlf_train.csv\")"
      ],
      "metadata": {
        "id": "JuEu1kGt45Y3"
      },
      "execution_count": null,
      "outputs": []
    },
    {
      "cell_type": "code",
      "source": [
        "y_train=train[\"inlf\"]\n",
        "X_train=train.drop(columns=\"inlf\")"
      ],
      "metadata": {
        "id": "3oh_XCC749se"
      },
      "execution_count": null,
      "outputs": []
    },
    {
      "cell_type": "code",
      "source": [
        "pipe_svc = make_pipeline(StandardScaler(),\n",
        "      SVC(random_state=1))\n",
        "param_range = [0.0001, 0.001, 0.01, 0.1,\n",
        "      1.0, 10.0, 100.0, 1000.0]\n",
        "param_grid = [{'svc__C': param_range,\n",
        "      'svc__kernel': ['linear']},\n",
        "      {'svc__C': param_range,\n",
        "      'svc__gamma': param_range,\n",
        "      'svc__kernel': ['rbf']}]\n",
        "gs = GridSearchCV(estimator=pipe_svc,\n",
        "      param_grid=param_grid,\n",
        "      scoring='accuracy',\n",
        "      cv=10,\n",
        "      refit=True,\n",
        "      n_jobs=-1)\n",
        "gs = gs.fit(X_train, y_train)"
      ],
      "metadata": {
        "id": "Na4AvB8c49n-"
      },
      "execution_count": null,
      "outputs": []
    },
    {
      "cell_type": "code",
      "source": [
        "y_pred = gs.predict(X_test)"
      ],
      "metadata": {
        "id": "qmx9c69z49lY"
      },
      "execution_count": null,
      "outputs": []
    },
    {
      "cell_type": "code",
      "source": [
        "first = pd.DataFrame(data = y_pred, index = range(189), columns = [\"Expected\"])\n",
        "first.reset_index().rename (columns = {\"index\":\"id\"}).to_csv(\"first.csv\", index = False)"
      ],
      "metadata": {
        "id": "5BW-D7b049in"
      },
      "execution_count": null,
      "outputs": []
    },
    {
      "cell_type": "code",
      "source": [],
      "metadata": {
        "id": "Gfh2B93A49fn"
      },
      "execution_count": null,
      "outputs": []
    },
    {
      "cell_type": "code",
      "source": [
        "# Ampliar el rango de valores para los parámetros C y gamma\n",
        "param_range = [0.0001, 0.001, 0.01, 0.1,\n",
        "      1.0, 10.0, 100.0, 1000.0]\n",
        "\n",
        "# Utilizar una estrategia de búsqueda más exhaustiva\n",
        "param_grid = [{'svc__C': param_range, 'svc__kernel': ['linear']},\n",
        "      {'svc__C': param_range,'svc__gamma': param_range,'svc__kernel': ['rbf']}]\n",
        "\n",
        "\n",
        "# Experimentar con diferentes métricas de puntuación (puedes cambiar 'accuracy' por otras métricas)\n",
        "scoring = ['accuracy', 'precision', 'recall', 'f1']\n",
        "\n",
        "pipe_svc = make_pipeline(StandardScaler(), SVC(random_state=5))\n",
        "\n",
        "# Realizar la búsqueda en cuadrícula con todas las combinaciones posibles\n",
        "gs = GridSearchCV(\n",
        "    estimator=pipe_svc,\n",
        "    param_grid=param_grid,\n",
        "    scoring=scoring,\n",
        "    cv=7,\n",
        "    refit=\"p\",  # Refit con respecto a la precisión para obtener el mejor modelo\n",
        "    n_jobs=-1\n",
        ")\n",
        "\n",
        "gs.fit(X_train, y_train)\n",
        "\n",
        "# Obtener los mejores parámetros\n",
        "best_params = gs.best_params_\n",
        "print(\"Mejores parámetros:\", best_params)\n",
        "\n",
        "# Obtener el mejor modelo\n",
        "best_model = gs.best_estimator_\n",
        "\n",
        "# Realizar predicciones en el conjunto de prueba\n",
        "y_pred = best_model.predict(X_test)\n",
        "\n",
        "# Crear un DataFrame con las predicciones\n",
        "result_df = pd.DataFrame(data=y_pred, columns=[\"Expected\"])\n",
        "result_df.index.name = \"id\"\n",
        "\n",
        "# Guardar las predicciones en un archivo CSV\n",
        "result_df.to_csv(\"best_svm_predictions.csv\")\n",
        "\n",
        "# También puedes acceder a las métricas de rendimiento, como las puntuaciones de precisión, recall, f1, etc., si es necesario."
      ],
      "metadata": {
        "colab": {
          "base_uri": "https://localhost:8080/"
        },
        "id": "kg6cV2voozFY",
        "outputId": "b90175fb-2741-4d3b-941d-ee89a761592c"
      },
      "execution_count": null,
      "outputs": [
        {
          "output_type": "stream",
          "name": "stdout",
          "text": [
            "Mejores parámetros: {'svc__C': 1.0, 'svc__kernel': 'linear'}\n"
          ]
        }
      ]
    }
  ]
}