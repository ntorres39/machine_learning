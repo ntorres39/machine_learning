{
  "nbformat": 4,
  "nbformat_minor": 0,
  "metadata": {
    "colab": {
      "provenance": []
    },
    "kernelspec": {
      "name": "python3",
      "display_name": "Python 3"
    },
    "language_info": {
      "name": "python"
    }
  },
  "cells": [
    {
      "cell_type": "markdown",
      "source": [
        "## TALLER 1 (1mer Corte) MACHINE LEARNING\n",
        "\n",
        "Nicolas Torres Carmona 63182040\n",
        "Steven Homez 63192030\n"
      ],
      "metadata": {
        "id": "CprkgnUmXLX8"
      }
    },
    {
      "cell_type": "code",
      "source": [
        "#1\n",
        "nombre = \"Cristian\" ##comandos que va a decir\n",
        "edad = 23\n",
        "\n",
        "mensaje_saludo = f\"Hola, me llamo {nombre} y tengo {edad} años.\" ##mensaje y entre parentesis el diccionario\n",
        "print(mensaje_saludo)\n",
        "\n",
        "#Hola, me llamo Cristian y tengo 23 años."
      ],
      "metadata": {
        "colab": {
          "base_uri": "https://localhost:8080/"
        },
        "id": "sxgcv250XcI7",
        "outputId": "0ff415e0-0b61-4123-a74d-38c8dc4a0dea"
      },
      "execution_count": 1,
      "outputs": [
        {
          "output_type": "stream",
          "name": "stdout",
          "text": [
            "Hola, me llamo Cristian y tengo 23 años.\n"
          ]
        }
      ]
    },
    {
      "cell_type": "code",
      "execution_count": 2,
      "metadata": {
        "colab": {
          "base_uri": "https://localhost:8080/"
        },
        "id": "n6rVrbJT0wm2",
        "outputId": "0539e890-e79a-4bb3-af53-98f35747efa3"
      },
      "outputs": [
        {
          "output_type": "stream",
          "name": "stdout",
          "text": [
            "Ingresa el radio del círculo: 10\n",
            "El área del círculo con radio 10.0 es: 314.16\n"
          ]
        }
      ],
      "source": [
        "#2\n",
        "import math #Esta línea importa la libreria math, que contiene funciones matemáticas, incluyendo el valor de π.\n",
        "\n",
        "def main(): #Función principal llamada main, que contendrá el flujo de la función.\n",
        "    radio = float(input(\"Ingresa el radio del círculo: \")) #Solicitar al usuario que ingrese el radio del círculo y lo almacena en la variable radio. La función input() recopila la entrada del usuario como texto, y float lo convierte en número decimal (flotante).\n",
        "    area = math.pi * radio ** 2 #Calcula el área del círculo utilizando la fórmula matemática π * radio al cuadrado.\n",
        "    print(f\"El área del círculo con radio {radio} es: {area:.2f}\") #Muestra un mensaje en la consola que incluye el valor del radio y el área calculada del círculo.:.2f Para mostrar dos decimales después del punto decimal.\n",
        "\n",
        "main() #Se ejecuta la función main().\n",
        "\n",
        "#Ingresa el radio del círculo: 10\n",
        "#El área del círculo con radio 10.0 es: 314.16"
      ]
    },
    {
      "cell_type": "code",
      "source": [
        "#3\n",
        "def calcular_promedio(lista_numeros): ##<-- Defino que va a hacer y la lista\n",
        "    if not lista_numeros:\n",
        "        return 0  # Retorna 0 si la lista está vacía para evitar división por cero\n",
        "    suma_total = sum(lista_numeros) ##<-- suma de la lista\n",
        "    promedio = suma_total / len(lista_numeros) ##<-- calculo el promedio\n",
        "    return promedio ##<-- devuelve el promedio\n",
        "numeros = [15, 27, 8, 36, 12, 45, 6] ##<-- La lista\n",
        "promedio_resultado = calcular_promedio(numeros) ##<-- comando para calcular la lista\n",
        "print(f\"El promedio es: {promedio_resultado}\") ##<-- print\n",
        "\n",
        "#El promedio es: 21.285714285714285"
      ],
      "metadata": {
        "colab": {
          "base_uri": "https://localhost:8080/"
        },
        "id": "PcerTVhWX5es",
        "outputId": "8655ecf0-f06e-4eb2-c922-0118f4ea70bf"
      },
      "execution_count": 3,
      "outputs": [
        {
          "output_type": "stream",
          "name": "stdout",
          "text": [
            "El promedio es: 21.285714285714285\n"
          ]
        }
      ]
    },
    {
      "cell_type": "code",
      "source": [
        "#4\n",
        "def num(): #Se inicia la definición de la función principal num().\n",
        "    numeros = [5,12,8,15,3,10,20,7] #Se asigna el conjunto de numeros\n",
        "    print(\"Números mayores que 10:\") #Imprime encabezado\n",
        "    for numero in numeros: #Inicia un bucle for que recorre cada elemento de la lista, asignando el valor de cada elemento a la variable num.\n",
        "        if numero > 10: #Verifica si es mayor a 10\n",
        "            print(numero) #Si es mayor, imprime resultados\n",
        "num() #Uso de la función\n",
        "\n",
        "#Números mayores que 10:\n",
        "#12\n",
        "#15\n",
        "#20\n"
      ],
      "metadata": {
        "colab": {
          "base_uri": "https://localhost:8080/"
        },
        "id": "haAVKAaL2_z4",
        "outputId": "338284d5-3f1d-4224-8cf4-b09d1801ddfb"
      },
      "execution_count": 4,
      "outputs": [
        {
          "output_type": "stream",
          "name": "stdout",
          "text": [
            "Números mayores que 10:\n",
            "12\n",
            "15\n",
            "20\n"
          ]
        }
      ]
    },
    {
      "cell_type": "code",
      "source": [
        "#5\n",
        "def obtener_precio_producto(nombre_producto): ##<-- Defino que va a hacer y la lista\n",
        "    precios_productos = {\n",
        "        'producto1': 10.99,\n",
        "        'producto2': 25.50,\n",
        "        'producto3': 5.75\n",
        "    } ##<-- biblioteca\n",
        "\n",
        "    if nombre_producto in precios_productos: ##<-- Condicional a\n",
        "        precio = precios_productos[nombre_producto]\n",
        "        print(f\"El precio de {nombre_producto} es: ${precio:.2f}\")\n",
        "    else: ##<-- condicional b si no sucede a\n",
        "        print(\"Producto no encontrado en la lista\")\n",
        "obtener_precio_producto('producto1') ##<-- aplicacion introduciendo el nombre del producto\n",
        "\n",
        "#El precio de producto1 es: $10.99"
      ],
      "metadata": {
        "colab": {
          "base_uri": "https://localhost:8080/"
        },
        "id": "Tc8P1RtQYGlu",
        "outputId": "65e13050-75e3-4652-f24a-3c409b8f380e"
      },
      "execution_count": 5,
      "outputs": [
        {
          "output_type": "stream",
          "name": "stdout",
          "text": [
            "El precio de producto1 es: $10.99\n"
          ]
        }
      ]
    },
    {
      "cell_type": "code",
      "source": [
        "#6\n",
        "def es_primo(numero): #Definicion de funcion principal con su argumento\n",
        "    if numero <= 1: #Comprueba si el número es igual o menor a 1. En ese caso, no es primo y retorna False.\n",
        "        return False\n",
        "    if numero <= 3: #Comprueba si el número es menor o igual a 3. Estos son primos, por lo que retorna True.\n",
        "        return True\n",
        "    if numero % 2 == 0 or numero % 3 == 0: #\n",
        "        return False\n",
        "    i = 5 #Inicializa un contador i en 5. Comprobar la divisibilidad del número desde 5 en adelante.\n",
        "    while i * i <= numero: #Realiza un bucle mientras el cuadrado de i sea menor o igual al número dado. Esto se hace para optimizar el cálculo.\n",
        "        if numero % i == 0 or numero % (i + 2) == 0: #Comprueba si el número es divisible por i o i + 2. Si es divisible por alguno de estos valores, no es primo y retorna False.\n",
        "            return False\n",
        "        i += 6 #Incrementa i en 6 en cada iteración del bucle. Esto es una optimización, ya que evita revisar números pares múltiples veces.\n",
        "\n",
        "    return True\n",
        "\n",
        "\n",
        "es_primo(2) #Uso de la función\n",
        "\n",
        "#True"
      ],
      "metadata": {
        "colab": {
          "base_uri": "https://localhost:8080/"
        },
        "id": "CaiuQGTZ3_k9",
        "outputId": "ec4794cc-c295-474f-b02e-94ec80c03f1d"
      },
      "execution_count": 6,
      "outputs": [
        {
          "output_type": "execute_result",
          "data": {
            "text/plain": [
              "True"
            ]
          },
          "metadata": {},
          "execution_count": 6
        }
      ]
    },
    {
      "cell_type": "code",
      "source": [
        "#7\n",
        "nombres = [\"Juan\", \"María\", \"Pedro\", \"Luis\", \"Alex\", \"Ana\", \"Carlos\"] ##<-- La lista\n",
        "indice = 0\n",
        "while indice < len(nombres) and nombres[indice] != \"Alex\": ##<-- Bucle hasta que se repita alex\n",
        "    print(nombres[indice]) ##<-- que se imprima el primer nombre\n",
        "    indice += 1 ##<-- el nombre y que vaya al siguiente\n",
        "    print(\"Se encontró el nombre 'Alex'.\") ##<-- print final ya que se encontro alex ya\n",
        "\n",
        "#Juan Se encontró el nombre 'Alex'.\n",
        "#María Se encontró el nombre 'Alex'.\n",
        "#Pedro Se encontró el nombre 'Alex'.\n",
        "#Luis Se encontró el nombre 'Alex'."
      ],
      "metadata": {
        "colab": {
          "base_uri": "https://localhost:8080/"
        },
        "id": "5ezNZ0GkYR-S",
        "outputId": "22a68412-2a7d-44bd-cfbd-a2aea9bab5ca"
      },
      "execution_count": 7,
      "outputs": [
        {
          "output_type": "stream",
          "name": "stdout",
          "text": [
            "Juan\n",
            "Se encontró el nombre 'Alex'.\n",
            "María\n",
            "Se encontró el nombre 'Alex'.\n",
            "Pedro\n",
            "Se encontró el nombre 'Alex'.\n",
            "Luis\n",
            "Se encontró el nombre 'Alex'.\n"
          ]
        }
      ]
    },
    {
      "cell_type": "code",
      "source": [
        "#8\n",
        "def invertir_cadena(cadena): #Definicion de funcion principal\n",
        "    return cadena[::-1] #Obtener la cadena invertida (-1)\n",
        "\n",
        "cadena_original = \"Machine Learning\" #Cadena original\n",
        "cadena_invertida = invertir_cadena(cadena_original) #Uso de la funcion\n",
        "\n",
        "print(\"Cadena original:\", cadena_original) #Imprime version inicial\n",
        "print(\"Cadena invertida:\", cadena_invertida) #Imprime cadena invertida\n",
        "\n",
        "#Cadena original: Machine Learning\n",
        "#Cadena invertida: gninraeL enihcaM"
      ],
      "metadata": {
        "colab": {
          "base_uri": "https://localhost:8080/"
        },
        "id": "uMbXxisH7u6l",
        "outputId": "875e48a5-d37e-4512-af66-832fb34deea2"
      },
      "execution_count": 8,
      "outputs": [
        {
          "output_type": "stream",
          "name": "stdout",
          "text": [
            "Cadena original: Machine Learning\n",
            "Cadena invertida: gninraeL enihcaM\n"
          ]
        }
      ]
    },
    {
      "cell_type": "code",
      "source": [
        "#9\n",
        "numeros_pares = [num for num in range(2, 21, 2)] ##<-- Mi rango que es que vaya en intervalos de dos en dos termine en 21 y comience en 2\n",
        "print(numeros_pares)\n",
        "\n",
        "#[2, 4, 6, 8, 10, 12, 14, 16, 18, 20]"
      ],
      "metadata": {
        "colab": {
          "base_uri": "https://localhost:8080/"
        },
        "id": "r8Nur_6eYqdD",
        "outputId": "1261c0cb-837a-4e3e-94c5-742db3f15b78"
      },
      "execution_count": 9,
      "outputs": [
        {
          "output_type": "stream",
          "name": "stdout",
          "text": [
            "[2, 4, 6, 8, 10, 12, 14, 16, 18, 20]\n"
          ]
        }
      ]
    },
    {
      "cell_type": "code",
      "source": [
        "#10\n",
        "def generar_fibonacci(n): #Funcion principal\n",
        "    fibonacci = [0, 1] #Crear lista con los dos primeros valores\n",
        "    while len(fibonacci) < n: #Bucle while mientras la longitud de la lista sea menor que la cantidad n que se desean generar.\n",
        "        next_term = fibonacci[-1] + fibonacci[-2] #Calcula el siguiente término de la serie sumando los dos últimos de la lista (-1=último elemento, -2=penúltimo).\n",
        "        fibonacci.append(next_term) #Agrega el siguiente valor a la lista.\n",
        "    return fibonacci #Devuelve la lista fibonacci de los primeros n valores de la serie.\n",
        "\n",
        "cantidad_terminos = int(input(\"Ingrese la cantidad de términos de Fibonacci a generar: \")) #Solicitar al usuario la cantidad de términos a generar. La función int lo convierte en entero.\n",
        "\n",
        "serie_fibonacci = generar_fibonacci(cantidad_terminos) # Generar la serie de Fibonacci\n",
        "\n",
        "print(\"Serie de Fibonacci con\", cantidad_terminos, \"términos:\") # Imprimir la serie generada\n",
        "for term in serie_fibonacci: #Inicia un bucle for que recorre cada término de serie_fibonacci\n",
        "    print(term, end=\" \") #Imprime cada término de la serie de Fibonacci seguido de un espacio en la misma línea. El argumento end=\" \" especifica que se debe usar un espacio en lugar del salto de línea después de cada impresión.\n",
        "\n",
        "#Ingrese la cantidad de términos de Fibonacci a generar: 100\n",
        "#Serie de Fibonacci con 100 términos:\n",
        "#0 1 1 2 3 5 8 13 21 34 55 89 144 233 377 610 987"
      ],
      "metadata": {
        "colab": {
          "base_uri": "https://localhost:8080/"
        },
        "id": "KH6LKGA48_VK",
        "outputId": "2439ed9f-08af-499f-ebb4-8657f95b9085"
      },
      "execution_count": null,
      "outputs": [
        {
          "output_type": "stream",
          "name": "stdout",
          "text": [
            "Ingrese la cantidad de términos de Fibonacci a generar: 100\n",
            "Serie de Fibonacci con 100 términos:\n",
            "0 1 1 2 3 5 8 13 21 34 55 89 144 233 377 610 987 1597 2584 4181 6765 10946 17711 28657 46368 75025 121393 196418 317811 514229 832040 1346269 2178309 3524578 5702887 9227465 14930352 24157817 39088169 63245986 102334155 165580141 267914296 433494437 701408733 1134903170 1836311903 2971215073 4807526976 7778742049 12586269025 20365011074 32951280099 53316291173 86267571272 139583862445 225851433717 365435296162 591286729879 956722026041 1548008755920 2504730781961 4052739537881 6557470319842 10610209857723 17167680177565 27777890035288 44945570212853 72723460248141 117669030460994 190392490709135 308061521170129 498454011879264 806515533049393 1304969544928657 2111485077978050 3416454622906707 5527939700884757 8944394323791464 14472334024676221 23416728348467685 37889062373143906 61305790721611591 99194853094755497 160500643816367088 259695496911122585 420196140727489673 679891637638612258 1100087778366101931 1779979416004714189 2880067194370816120 4660046610375530309 7540113804746346429 12200160415121876738 19740274219868223167 31940434634990099905 51680708854858323072 83621143489848422977 135301852344706746049 218922995834555169026 "
          ]
        }
      ]
    },
    {
      "cell_type": "code",
      "source": [
        "#11\n",
        "def calcular_interes_simple(principal, tasa_interes, tiempo_años): ##<-- definicion de la ecuacion\n",
        "    interes = principal * tasa_interes * tiempo_años / 100  ##<-- calculo del interes\n",
        "    monto_total = principal + interes  ##<-- el monto total que es principal mas el interes\n",
        "    print(f\"El interés simple es: {interes}\")\n",
        "    print(f\"El monto total es: {monto_total}\")\n",
        "calcular_interes_simple(principal, tasa_interes, tiempo_anos)  ##<-- Llama la funcion para que funcione\n",
        "\n",
        "principal = 100000  # Monto principal en dólares\n",
        "tasa_interes = 5  # Tasa de interés en porcentaje\n",
        "tiempo_anos = 3   # Tiempo en años\n",
        "\n",
        "#El interés simple es: 15000.0\n",
        "#El monto total es: 115000.0"
      ],
      "metadata": {
        "id": "Ww6VOGB-Y_Ak"
      },
      "execution_count": null,
      "outputs": []
    },
    {
      "cell_type": "code",
      "source": [
        "#12\n",
        "def calcular_promedio_precios(precios): #Definicion de la funcion principal\n",
        "    total = sum(precios) #Calcula la suma de todos los precios en la lista.\n",
        "    promedio = total / len(precios) #Calcula el promedio dividiendo la suma total por la cantidad de elementos en la lista.\n",
        "    return promedio #Devuelve el promedio calculado.\n",
        "\n",
        "precios_acciones = [100.5, 105.2, 98.7, 110.3, 102.8, 107.0] #Crear una lista de precios de acciones\n",
        "\n",
        "promedio_precios = calcular_promedio_precios(precios_acciones) #Calcular el promedio de los precios utilizando la función\n",
        "print(\"Promedio de precios de acciones:\", promedio_precios) #Imprimir el promedio de precios\n",
        "\n",
        "#Promedio de precios de acciones: 104.08333333333333"
      ],
      "metadata": {
        "colab": {
          "base_uri": "https://localhost:8080/"
        },
        "id": "1TlSvkyZ-8gs",
        "outputId": "7020c0ca-4771-42d1-bd18-3fa46e588e7e"
      },
      "execution_count": null,
      "outputs": [
        {
          "output_type": "stream",
          "name": "stdout",
          "text": [
            "Promedio de precios de acciones: 104.08333333333333\n"
          ]
        }
      ]
    },
    {
      "cell_type": "code",
      "source": [
        "#13\n",
        "def convertir_dolares_a_euros(cantidad_dolares, tasa_cambio):\n",
        "    cantidad_euros = cantidad_dolares * tasa_cambio  ##<-- Ecuacion para dar con la cantidad de euros\n",
        "    print(f\"{cantidad_dolares} dólares equivalen a {cantidad_euros} euros\")  ##<-- lo que va a decir en la salida\n",
        "\n",
        "cantidad_dolares = 100\n",
        "tasa_cambio = 0.85  # Tasa de cambio de dólares a euros\n",
        "\n",
        "convertir_dolares_a_euros(cantidad_dolares, tasa_cambio)  ##<-- llama la funcion para calcular\n",
        "\n",
        "#100 dólares equivalen a 85.0 euros\n"
      ],
      "metadata": {
        "id": "gh-LNAEBZIqj"
      },
      "execution_count": null,
      "outputs": []
    },
    {
      "cell_type": "code",
      "source": [
        "#14\n",
        "def calcular_factorial(numero): #Definicion de la funcion prinicpal\n",
        "    if numero < 0:\n",
        "        return \"No se puede calcular\" #Comprobar si es negativo, si sí, arroja que no puede ser calculado\n",
        "    if numero == 0 or numero == 1: #Comprobar. El numero fatorial de 0 y 1 = 1, por lo que devuelve el valor 1\n",
        "        return 1\n",
        "\n",
        "    factorial = 1 #Iniciar la variable en 1\n",
        "    for i in range(2, numero + 1): #Bucle que comienza en 2 y termina en el número dado + 1.\n",
        "        factorial *= i #Multiplica la variable factorial por cada valor i en el bucle.\n",
        "\n",
        "    return factorial #Devuelve el valor calculado del factorial\n",
        "\n",
        "numero = int(input(\"Ingrese un número para calcular su factorial: \")) #Solicitar al usuario ingresar un número\n",
        "\n",
        "factorial_calculado = calcular_factorial(numero) #Calcular el factorial utilizando la función\n",
        "\n",
        "print(\"El factorial de\", numero, \"es:\", factorial_calculado) #Imprimir el resultado\n",
        "\n",
        "#Ingrese un número para calcular su factorial: -5\n",
        "#El factorial de -5 es: No se puede calcular\n",
        "\n"
      ],
      "metadata": {
        "colab": {
          "base_uri": "https://localhost:8080/"
        },
        "id": "-Xz5T39k_227",
        "outputId": "5cd0446d-4027-425b-974e-ec026391c881"
      },
      "execution_count": null,
      "outputs": [
        {
          "output_type": "stream",
          "name": "stdout",
          "text": [
            "Ingrese un número para calcular su factorial: -5\n",
            "El factorial de -5 es: No se puede calcular\n"
          ]
        }
      ]
    },
    {
      "cell_type": "code",
      "source": [
        "#15\n",
        "cuentas_bancarias = {\n",
        "    'Juan Perez': 5000,\n",
        "    'Maria Garcia': 7500,\n",
        "    'Luis Martinez': 12000,\n",
        "    'Ana Sanchez': 9500,\n",
        "    'Pedro Rodriguez': 11000\n",
        "}  ##<-- bibloteca\n",
        "\n",
        "def cuenta_con_saldo_mas_alto(cuentas_bancarias):\n",
        "    max_saldo = float('-inf')  ##es necesario numeros con float ya que se acercan a inf\n",
        "    cuenta_max = None\n",
        "    for cuenta, saldo in cuentas_bancarias.items():\n",
        "        if saldo > max_saldo:\n",
        "            max_saldo = saldo\n",
        "            cuenta_max = cuenta\n",
        "    return cuenta_max, max_saldo\n",
        "\n",
        "cuenta_maxima, saldo_maximo = cuenta_con_saldo_mas_alto(cuentas_bancarias)\n",
        "print(f\"La cuenta con el saldo más alto es '{cuenta_maxima}' con un saldo de ${saldo_maximo}\")\n",
        "\n",
        "#La cuenta con el saldo más alto es 'Luis Martinez' con un saldo de $12000"
      ],
      "metadata": {
        "colab": {
          "base_uri": "https://localhost:8080/"
        },
        "id": "zZYLi8fDZS-T",
        "outputId": "b20a1dc0-4741-48f0-ed50-4153c06eff8c"
      },
      "execution_count": 10,
      "outputs": [
        {
          "output_type": "stream",
          "name": "stdout",
          "text": [
            "La cuenta con el saldo más alto es 'Luis Martinez' con un saldo de $12000\n"
          ]
        }
      ]
    },
    {
      "cell_type": "code",
      "source": [
        "#16\n",
        "def calcular_numero_triangular(n): #Funcion principal\n",
        "    return n * (n + 1) // 2 #Calculo de número triangular.\n",
        "\n",
        "n = int(input(\"Ingrese la cantidad de números triangulares a generar: \")) #Solicitar al usuario la cantidad de números triangulares a generar\n",
        "\n",
        "print(f\"Primeros {n} números triangulares:\") #Calcular y imprimir los números triangulares\n",
        "\n",
        "for i in range(1, n + 1): # nicia un bucle for que recorre desde 1 hasta n.\n",
        "    numero_triangular = calcular_numero_triangular(i) #Calculatriangular para el valor i.\n",
        "    print(numero_triangular, end=\" \") #Imprime cada número triangular, separados por un espacio en lugar de un salto de línea.\n",
        "\n",
        "#Ingrese la cantidad de números triangulares a generar: 1\n",
        "#Primeros 1 números triangulares: 1\n"
      ],
      "metadata": {
        "colab": {
          "base_uri": "https://localhost:8080/"
        },
        "id": "pVzepbDtBadG",
        "outputId": "0b876352-3cf7-455c-e277-cfb24af2111b"
      },
      "execution_count": null,
      "outputs": [
        {
          "output_type": "stream",
          "name": "stdout",
          "text": [
            "Ingrese la cantidad de números triangulares a generar: 1\n",
            "Primeros 1 números triangulares:\n",
            "1 "
          ]
        }
      ]
    },
    {
      "cell_type": "code",
      "source": [
        "#17\n",
        "def calcular_descuento(precio_original, porcentaje_descuento):\n",
        "    if porcentaje_descuento < 0 or porcentaje_descuento > 100:\n",
        "        raise ValueError(\"El porcentaje de descuento debe estar entre 0 y 100\")\n",
        "\n",
        "    descuento = precio_original * (porcentaje_descuento / 100)\n",
        "    precio_final = precio_original - descuento\n",
        "    return precio_final\n",
        "\n",
        "# Ejemplo de uso\n",
        "precio_original = 100\n",
        "porcentaje_descuento = 20\n",
        "precio_final = calcular_descuento(precio_original, porcentaje_descuento)\n",
        "print(f\"El precio final después del descuento es: ${precio_final}\")\n",
        "\n",
        "#El precio final después del descuento es: $80.0\n"
      ],
      "metadata": {
        "colab": {
          "base_uri": "https://localhost:8080/"
        },
        "id": "T3kzgNxAZjzz",
        "outputId": "ef36fa38-7437-46eb-a568-9c7622d34cc8"
      },
      "execution_count": 11,
      "outputs": [
        {
          "output_type": "stream",
          "name": "stdout",
          "text": [
            "El precio final después del descuento es: $80.0\n"
          ]
        }
      ]
    },
    {
      "cell_type": "code",
      "source": [
        "#18\n",
        "def numeros_pares(lista): #Definicion funcion\n",
        "    pares = [numero for numero in lista if numero % 2 == 0] #Utiliza lista para crear una nueva lista llamada pares. La condición if numero % 2 == 0 verifica si el número es par.\n",
        "    return pares #Devuelve valores pares\n",
        "\n",
        "numeros = [1,2,3,4,5,6,7,8,9,10] #Dar lista\n",
        "numeros_pares_resultado = numeros_pares(numeros) #Llama la funcion y guarda el resultado en la variable\n",
        "print(\"Números pares:\", numeros_pares_resultado) #Imprime lista final\n",
        "\n",
        "#Números pares: [2, 4, 6, 8, 10]\n"
      ],
      "metadata": {
        "colab": {
          "base_uri": "https://localhost:8080/"
        },
        "id": "PqRCJblIClgL",
        "outputId": "a6bc7a02-58a9-4f2b-f677-1f8b467ba42e"
      },
      "execution_count": null,
      "outputs": [
        {
          "output_type": "stream",
          "name": "stdout",
          "text": [
            "Números pares: [2, 4, 6, 8, 10]\n"
          ]
        }
      ]
    },
    {
      "cell_type": "code",
      "source": [
        "#19\n",
        "def encontrar_extremos(lista):\n",
        "    if not lista:\n",
        "        raise ValueError(\"La lista está vacía\")\n",
        "\n",
        "    maximo = float('-inf')  # Inicializar con un valor muy bajo\n",
        "    minimo = float('inf')   # Inicializar con un valor muy alto\n",
        "\n",
        "    for numero in lista:\n",
        "        if numero > maximo:\n",
        "            maximo = numero\n",
        "        if numero < minimo:\n",
        "            minimo = numero\n",
        "\n",
        "    return maximo, minimo\n",
        "\n",
        "# Ejemplo de uso\n",
        "numeros = [15, 27, 8, 36, 12, 45, 6]\n",
        "\n",
        "try:\n",
        "    numero_mas_grande, numero_mas_pequeno = encontrar_extremos(numeros)\n",
        "    print(f\"El número más grande en la lista es: {numero_mas_grande}\")\n",
        "    print(f\"El número más pequeño en la lista es: {numero_mas_pequeno}\")\n",
        "except ValueError as e:\n",
        "    print(e)\n",
        "\n",
        "#El número más grande en la lista es: 45\n",
        "#El número más pequeño en la lista es: 6"
      ],
      "metadata": {
        "colab": {
          "base_uri": "https://localhost:8080/"
        },
        "id": "N9kbYoGYZt_1",
        "outputId": "2442ff53-6c95-4208-acbe-85cec5cdca65"
      },
      "execution_count": 13,
      "outputs": [
        {
          "output_type": "stream",
          "name": "stdout",
          "text": [
            "El número más grande en la lista es: 45\n",
            "El número más pequeño en la lista es: 6\n"
          ]
        }
      ]
    },
    {
      "cell_type": "code",
      "source": [
        "#20\n",
        "def generar_secuencia_pell(n): #Definicion de funcion principal\n",
        "    if n == 0: #Comprueba si n es 0. Si sí, devuelve una lista vacía hay términos en la secuencia.\n",
        "        return []\n",
        "    if n == 1: #Comprueba si n es 1. Si sí, devuelve una lista con un único término, que es 0.\n",
        "        return [0]\n",
        "\n",
        "    secuencia = [0, 1] #Iniciar lista\n",
        "    for i in range(2, n): #Inicia un bucle for desde 2 hasta n - 1.\n",
        "        siguiente = 2 * secuencia[i - 1] + secuencia[i - 2] #Calcula el siguiente término de la secuencia utilizando la fórmula, donde P(n) es el término n de la secuencia.\n",
        "        secuencia.append(siguiente) #Agrega el siguiente valor a la secuencia.\n",
        "\n",
        "    return secuencia #Devuelve el resultado\n",
        "\n",
        "n = int(input(\"Ingrese la cantidad de términos de la secuencia de Pell a generar: \")) #Solicitar al usuario la cantidad de términos a generar\n",
        "\n",
        "secuencia_pell = generar_secuencia_pell(n) #Generar la secuencia de Pell\n",
        "\n",
        "print(\"Secuencia de Pell con\", n, \"términos:\") #Imprimir la secuencia generada\n",
        "for term in secuencia_pell:\n",
        "    print(term, end=\" \") #separados por un espacio en lugar de un salto de línea.\n",
        "\n",
        "#Ingrese la cantidad de términos de la secuencia de Pell a generar: 5\n",
        "#Secuencia de Pell con 5 términos: 0 1 2 5 12\n"
      ],
      "metadata": {
        "colab": {
          "base_uri": "https://localhost:8080/"
        },
        "id": "PJYsr29NDLp7",
        "outputId": "15da24a8-b8e9-4e09-c134-f3c0dc3c3b7f"
      },
      "execution_count": null,
      "outputs": [
        {
          "output_type": "stream",
          "name": "stdout",
          "text": [
            "Ingrese la cantidad de términos de la secuencia de Pell a generar: 5\n",
            "Secuencia de Pell con 5 términos:\n",
            "0 1 2 5 12 "
          ]
        }
      ]
    },
    {
      "cell_type": "code",
      "source": [
        "#21\n",
        "def calcular_amortizacion(monto_prestamo, tasa_interes_anual, plazo_meses):\n",
        "    tasa_interes_mensual = tasa_interes_anual / 12 / 100\n",
        "    cuota_mensual = monto_prestamo * (tasa_interes_mensual * (1 + tasa_interes_mensual)**plazo_meses) / ((1 + tasa_interes_mensual)**plazo_meses - 1)\n",
        "\n",
        "    print(\"Mes | Cuota Mensual | Capital | Interés | Saldo Restante\")\n",
        "    print(\"-\" * 50)\n",
        "\n",
        "    saldo_restante = monto_prestamo\n",
        "\n",
        "    for mes in range(1, plazo_meses + 1):\n",
        "        interes_mensual = saldo_restante * tasa_interes_mensual\n",
        "        capital_mensual = cuota_mensual - interes_mensual\n",
        "        saldo_restante -= capital_mensual\n",
        "\n",
        "        print(f\"{mes:3} | {cuota_mensual:13.2f} | {capital_mensual:7.2f} | {interes_mensual:6.2f} | {saldo_restante:14.2f}\")\n",
        "\n",
        "# Ejemplo de uso dentro de la función\n",
        "calcular_amortizacion(10000, 8, 36)\n",
        "\n",
        "#Mes | Cuota Mensual | Capital | Interés | Saldo Restante\n",
        "#--------------------------------------------------\n",
        "# 1 |        313.36 |  246.70 |  66.67 |        9753.30\n",
        "# 2 |        313.36 |  248.34 |  65.02 |        9504.96\n",
        "# 3 |        313.36 |  250.00 |  63.37 |        9254.96"
      ],
      "metadata": {
        "id": "oMky3qGoZ84U"
      },
      "execution_count": null,
      "outputs": []
    },
    {
      "cell_type": "code",
      "source": [
        "#22\n",
        "def es_numero_perfecto(numero): #Definir la funcion\n",
        "    if numero <= 0: #Verifica si el número es menor o igual a 0. Si sí, devuelve False ya que no se consideran números perfectos negativos o cero.\n",
        "        return False\n",
        "\n",
        "    suma_divisores = 0 #Inicializa en 0 para acumular la suma\n",
        "    for i in range(1, numero): #Inicia un bucle for que recorre desde 1 hasta n.\n",
        "        if numero % i == 0: #Verifica si i es un divisor de numero.\n",
        "            suma_divisores += i #Si i es un divisor de numero, se agrega i a la variable suma_divisores.\n",
        "\n",
        "    return suma_divisores == numero #Función devuelve True si la suma de los divisores propios es igual al nUmero original, lo que indica que es numero perfecto.\n",
        "\n",
        "numero = int(input(\"Ingrese un número para verificar si es perfecto: \")) #Solicitar al usuario ingresar un número\n",
        "\n",
        "if es_numero_perfecto(numero): # Verificar si el número es perfecto utilizando la función\n",
        "    print(numero, \"es un número perfecto.\")\n",
        "else:\n",
        "    print(numero, \"no es un número perfecto.\") #Sino es, indicar que no es un numero perfecto\n",
        "\n",
        "#Ingrese un número para verificar si es perfecto: 28\n",
        "#28 es un número perfecto.\n"
      ],
      "metadata": {
        "id": "XZ21QNs-ESyp",
        "colab": {
          "base_uri": "https://localhost:8080/"
        },
        "outputId": "0f438b2f-ca20-46a8-b2c9-fc48d73834b3"
      },
      "execution_count": null,
      "outputs": [
        {
          "output_type": "stream",
          "name": "stdout",
          "text": [
            "Ingrese un número para verificar si es perfecto: 28\n",
            "28 es un número perfecto.\n"
          ]
        }
      ]
    },
    {
      "cell_type": "code",
      "source": [
        "#23\n",
        "def mostrar_tasa_de_interes(tipo_prestamo):\n",
        "    tasas_interes = {\n",
        "        'personal': 10,\n",
        "        'hipotecario': 6,\n",
        "        'automotriz': 8,\n",
        "        'educativo': 5,\n",
        "        'tarjeta de crédito': 15\n",
        "    }\n",
        "\n",
        "    if tipo_prestamo in tasas_interes:\n",
        "        tasa = tasas_interes[tipo_prestamo]\n",
        "        print(f\"La tasa de interés para un préstamo {tipo_prestamo} es: {tasa}%\")\n",
        "    else:\n",
        "        print(\"Tipo de préstamo no encontrado\")\n",
        "\n",
        "tipo_prestamo = 'personal'\n",
        "resultado = mostrar_tasa_de_interes(tipo_prestamo)\n",
        "print(resultado)\n",
        "\n",
        "tipo_prestamo = 'personal'\n",
        "resultado = mostrar_tasa_de_interes(tipo_prestamo)\n",
        "print(resultado)\n",
        "\n",
        "#La tasa de interés para un préstamo personal es: 10%\n",
        "#None\n",
        "#La tasa de interés para un préstamo personal es: 10%\n",
        "#None"
      ],
      "metadata": {
        "id": "YrcEgZLlaMo0"
      },
      "execution_count": null,
      "outputs": []
    },
    {
      "cell_type": "code",
      "source": [
        "#24\n",
        "import numpy as np\n",
        "\n",
        "def calcular_media_geometrica(lista_numeros): #Definicion de la funcion\n",
        "    producto = np.prod(lista_numeros) #Da resultado el producto de la lista\n",
        "    media_geometrica = producto ** (1 / len(lista_numeros)) #Operacion matematica\n",
        "    return media_geometrica #Devuelve la media calculada\n",
        "\n",
        "numeros = [2, 4, 8, 16] #Lista\n",
        "media_geometrica = calcular_media_geometrica(numeros) #La media se calcula dado a la lista \"numeros\"\n",
        "print(\"La media geométrica es:\", media_geometrica) #Imprime resultado\n",
        "\n",
        "#La media geométrica es: 5.656854249492381"
      ],
      "metadata": {
        "id": "6VP3ipBdEUHB",
        "colab": {
          "base_uri": "https://localhost:8080/"
        },
        "outputId": "e0e1c9be-0069-419a-8b7b-ec2a4c48447b"
      },
      "execution_count": 17,
      "outputs": [
        {
          "output_type": "stream",
          "name": "stdout",
          "text": [
            "La media geométrica es: 5.656854249492381\n"
          ]
        }
      ]
    },
    {
      "cell_type": "code",
      "source": [
        "#25\n",
        "def segundo_numero_mas_grande(lista):\n",
        "    if len(lista) < 2:\n",
        "        return None\n",
        "\n",
        "    maximo = max(lista)\n",
        "    lista.remove(maximo)\n",
        "    segundo_maximo = max(lista)\n",
        "    return segundo_maximo\n",
        "\n",
        "numeros = [15, 27, 8, 36, 12, 45, 6]\n",
        "segundo_maximo = segundo_numero_mas_grande(numeros)\n",
        "if segundo_maximo is not None:\n",
        "    print(f\"El segundo número más grande en la lista es: {segundo_maximo}\")\n",
        "else:\n",
        "    print(\"La lista no tiene suficientes elementos.\")\n",
        "\n",
        "#El segundo número más grande en la lista es: 36"
      ],
      "metadata": {
        "colab": {
          "base_uri": "https://localhost:8080/"
        },
        "id": "g6X8UKCMan7E",
        "outputId": "ef7f2a73-0192-4fcb-a208-62cd79073fa2"
      },
      "execution_count": 18,
      "outputs": [
        {
          "output_type": "stream",
          "name": "stdout",
          "text": [
            "El segundo número más grande en la lista es: 36\n"
          ]
        }
      ]
    },
    {
      "cell_type": "code",
      "source": [
        "#26\n",
        "def numeros_de_lucas(n): #Definir la funcion\n",
        "    lucas = [2, 1] #Se empieza con los dos primeros numeros de la secuencia\n",
        "    for _ in range(2, n): #Calcular los nmeros restantes\n",
        "        lucas.append(lucas[-1] + lucas[-2]) #Calcula el siguiente numerosumando los dos últimos de la lista y los agrega.\n",
        "    return lucas #Devuelve lista de numeros calculados\n",
        "\n",
        "cantidad = int(input(\"Ingrese la cantidad de números de Lucas a calcular: \")) #Ingresar datos\n",
        "resultados = numeros_de_lucas(cantidad) #Con los valores ingresados, se usa funcion\n",
        "\n",
        "print(f\"Los primeros {cantidad} números de Lucas son:\") #Imprimir resultados\n",
        "print(resultados)\n",
        "\n",
        "#Ingrese la cantidad de números de Lucas a calcular: 100\n",
        "#Los primeros 100 números de Lucas son:\n",
        "#[2, 1, 3, 4, 7, 11, 18, 29, 47, 76, 123, 199,...]\n"
      ],
      "metadata": {
        "id": "H9wmVA7DEU-B",
        "colab": {
          "base_uri": "https://localhost:8080/"
        },
        "outputId": "5d1f72be-21ac-493c-c074-772bdb407f53"
      },
      "execution_count": null,
      "outputs": [
        {
          "output_type": "stream",
          "name": "stdout",
          "text": [
            "Ingrese la cantidad de números de Lucas a calcular: 100\n",
            "Los primeros 100 números de Lucas son:\n",
            "[2, 1, 3, 4, 7, 11, 18, 29, 47, 76, 123, 199, 322, 521, 843, 1364, 2207, 3571, 5778, 9349, 15127, 24476, 39603, 64079, 103682, 167761, 271443, 439204, 710647, 1149851, 1860498, 3010349, 4870847, 7881196, 12752043, 20633239, 33385282, 54018521, 87403803, 141422324, 228826127, 370248451, 599074578, 969323029, 1568397607, 2537720636, 4106118243, 6643838879, 10749957122, 17393796001, 28143753123, 45537549124, 73681302247, 119218851371, 192900153618, 312119004989, 505019158607, 817138163596, 1322157322203, 2139295485799, 3461452808002, 5600748293801, 9062201101803, 14662949395604, 23725150497407, 38388099893011, 62113250390418, 100501350283429, 162614600673847, 263115950957276, 425730551631123, 688846502588399, 1114577054219522, 1803423556807921, 2918000611027443, 4721424167835364, 7639424778862807, 12360848946698171, 20000273725560978, 32361122672259149, 52361396397820127, 84722519070079276, 137083915467899403, 221806434537978679, 358890350005878082, 580696784543856761, 939587134549734843, 1520283919093591604, 2459871053643326447, 3980154972736918051, 6440026026380244498, 10420180999117162549, 16860207025497407047, 27280388024614569596, 44140595050111976643, 71420983074726546239, 115561578124838522882, 186982561199565069121, 302544139324403592003, 489526700523968661124]\n"
          ]
        }
      ]
    },
    {
      "cell_type": "code",
      "source": [
        "#27\n",
        "def calcular_cuota_mensual(monto_prestamo, tasa_interes_anual, plazo_años):\n",
        "    tasa_interes_mensual = tasa_interes_anual / 12 / 100\n",
        "    plazo_meses = plazo_años * 12\n",
        "    cuota_mensual = monto_prestamo * (tasa_interes_mensual * (1 + tasa_interes_mensual)**plazo_meses) / ((1 + tasa_interes_mensual)**plazo_meses - 1)\n",
        "\n",
        "    print(f\"La cuota mensual del préstamo es: ${cuota_mensual:.2f}\")\n",
        "calcular_cuota_mensual(20000, 4.5, 30)\n",
        "\n",
        "#La cuota mensual del préstamo es: $101.34"
      ],
      "metadata": {
        "colab": {
          "base_uri": "https://localhost:8080/"
        },
        "id": "KOxhAaBla12z",
        "outputId": "7b01d7f1-7b94-41f7-9a00-3de42908ab7a"
      },
      "execution_count": 19,
      "outputs": [
        {
          "output_type": "stream",
          "name": "stdout",
          "text": [
            "La cuota mensual del préstamo es: $101.34\n"
          ]
        }
      ]
    },
    {
      "cell_type": "code",
      "source": [
        "#28\n",
        "def es_numero_armstrong(numero): #Define la funcion\n",
        "    num_str = str(numero)  #Convertir el número a una cadena de caracteres\n",
        "    n = len(num_str)       #Obtener la cantidad de dígitos en el número\n",
        "    suma_digitos = sum(int(digito) ** n for digito in num_str)  #Calcular la suma de dígitos elevados a n\n",
        "\n",
        "    return numero == suma_digitos #Compara si el numero es igual a la suma de los dígitos elevados a n. Iguales=True, lo que indica que el número es un número de Armstrong; de lo contrario, devuelve Fals\n",
        "\n",
        "numero = int(input(\"Ingrese un número: \")) #Solicita el numero a verificar\n",
        "if es_numero_armstrong(numero): #Si el numero es numero armstrong, imprime que lo es\n",
        "    print(numero, \"es un número de Armstrong.\")\n",
        "else: #Sino, imprimirá lo contrario\n",
        "    print(numero, \"no es un número de Armstrong.\")\n",
        "\n",
        "#Ingrese un número: 100\n",
        "#100 no es un número de Armstrong.\n"
      ],
      "metadata": {
        "id": "D04paXnQEVjQ",
        "colab": {
          "base_uri": "https://localhost:8080/"
        },
        "outputId": "683a925c-346c-4c87-d7a7-0b8c5717823c"
      },
      "execution_count": null,
      "outputs": [
        {
          "output_type": "stream",
          "name": "stdout",
          "text": [
            "Ingrese un número: 100\n",
            "100 no es un número de Armstrong.\n"
          ]
        }
      ]
    },
    {
      "cell_type": "code",
      "source": [
        "#29\n",
        "def convertir_moneda(cantidad, moneda_origen, moneda_destino):\n",
        "    tasas_cambio = {\n",
        "        'USD': 0.85,  # 1 USD = 0.85 EUR\n",
        "        'EUR': 1.18   # 1 EUR = 1.18 USD\n",
        "    }\n",
        "\n",
        "    if moneda_origen in tasas_cambio and moneda_destino in tasas_cambio:\n",
        "        tasa = tasas_cambio[moneda_destino] / tasas_cambio[moneda_origen]\n",
        "        cantidad_convertida = cantidad * tasa\n",
        "        print(f\"{cantidad:.2f} {moneda_origen} equivale a {cantidad_convertida:.2f} {moneda_destino}\")\n",
        "    else:\n",
        "        print(\"Moneda no encontrada o conversión no admitida\")\n",
        "convertir_moneda(25, 'USD', 'EUR')\n",
        "\n",
        "#25.00 USD equivale a 34.71 EUR"
      ],
      "metadata": {
        "colab": {
          "base_uri": "https://localhost:8080/"
        },
        "id": "nNDijszAa_zM",
        "outputId": "d9f3c31b-7cac-4d37-b12e-dfca4477f8e6"
      },
      "execution_count": 20,
      "outputs": [
        {
          "output_type": "stream",
          "name": "stdout",
          "text": [
            "25.00 USD equivale a 34.71 EUR\n"
          ]
        }
      ]
    },
    {
      "cell_type": "code",
      "source": [
        "#30\n",
        "import math #Importar libreria\n",
        "def calcular_desviacion_estandar(lista_numeros): #Definicion de la funcion\n",
        "    media = sum(lista_numeros) / len(lista_numeros) #Definicion de operacion matematica\n",
        "    suma_cuadrados = sum((x - media) ** 2 for x in lista_numeros) #Calcular la suma de los cuadrados de las diferencias entre cada número y la media.\n",
        "    desviacion_estandar = math.sqrt(suma_cuadrados / (len(lista_numeros) - 1)) #Calcular SD dividiendo la suma de los cuadrados por n - 1 (donde n es el tamaño de la lista) y luego tomando la raíz cuadrada.\n",
        "\n",
        "    return desviacion_estandar #Devuelve el resultado\n",
        "\n",
        "numeros = [10, 20, 30, 40, 50] #Lista de valores\n",
        "desviacion = calcular_desviacion_estandar(numeros) #La funcion del calculo va acorde a los numeros dados\n",
        "print(\"La desviación estándar es:\", desviacion) #Imprime resultado\n",
        "\n",
        "#La desviación estándar es: 15.811388300841896"
      ],
      "metadata": {
        "id": "-l5O965bEYM4",
        "colab": {
          "base_uri": "https://localhost:8080/"
        },
        "outputId": "4fd74d73-8340-4274-b76c-d90915ddc214"
      },
      "execution_count": null,
      "outputs": [
        {
          "output_type": "stream",
          "name": "stdout",
          "text": [
            "La desviación estándar es: 15.811388300841896\n"
          ]
        }
      ]
    }
  ]
}